{
 "cells": [
  {
   "cell_type": "markdown",
   "metadata": {},
   "source": [
    "# Create Agents to Research and Write an Article\n",
    "\n",
    "In this lesson, you will be introduced to the foundational concepts of multi-agent systems and get an overview of the crewAI framework."
   ]
  },
  {
   "cell_type": "markdown",
   "metadata": {},
   "source": [
    "The libraries are already installed in the classroom. If you're running this notebook on your own machine, you can install the following:\n",
    "```Python\n",
    "!pip install crewai==0.28.8 crewai_tools==0.1.6 langchain_community==0.0.29\n",
    "```"
   ]
  },
  {
   "cell_type": "code",
   "execution_count": 14,
   "metadata": {
    "height": 63
   },
   "outputs": [],
   "source": [
    "# Warning control\n",
    "import warnings\n",
    "warnings.filterwarnings('ignore')"
   ]
  },
  {
   "cell_type": "markdown",
   "metadata": {},
   "source": [
    "- Import from the crewAI libray."
   ]
  },
  {
   "cell_type": "code",
   "execution_count": 15,
   "metadata": {
    "height": 29
   },
   "outputs": [],
   "source": [
    "from crewai import Agent, Task, Crew"
   ]
  },
  {
   "cell_type": "markdown",
   "metadata": {},
   "source": [
    "- As a LLM for your agents, you'll be using OpenAI's `gpt-3.5-turbo`.\n",
    "\n",
    "**Optional Note:** crewAI also allow other popular models to be used as a LLM for your Agents. You can see some of the examples at the [bottom of the notebook](#1)."
   ]
  },
  {
   "cell_type": "code",
   "execution_count": 16,
   "metadata": {
    "height": 97
   },
   "outputs": [],
   "source": [
    "import os\n",
    "from utils import get_openai_api_key\n",
    "\n",
    "openai_api_key = get_openai_api_key()\n",
    "os.environ[\"OPENAI_MODEL_NAME\"] = 'gpt-3.5-turbo'"
   ]
  },
  {
   "cell_type": "markdown",
   "metadata": {},
   "source": [
    "## Creating Agents\n",
    "\n",
    "- Define your Agents, and provide them a `role`, `goal` and `backstory`.\n",
    "- It has been seen that LLMs perform better when they are role playing."
   ]
  },
  {
   "cell_type": "markdown",
   "metadata": {},
   "source": [
    "### Agent: Planner\n",
    "\n",
    "**Note**: The benefit of using _multiple strings_ :\n",
    "```Python\n",
    "varname = \"line 1 of text\"\n",
    "          \"line 2 of text\"\n",
    "```\n",
    "\n",
    "versus the _triple quote docstring_:\n",
    "```Python\n",
    "varname = \"\"\"line 1 of text\n",
    "             line 2 of text\n",
    "          \"\"\"\n",
    "```\n",
    "is that it can avoid adding those whitespaces and newline characters, making it better formatted to be passed to the LLM."
   ]
  },
  {
   "cell_type": "code",
   "execution_count": 17,
   "metadata": {
    "height": 245
   },
   "outputs": [],
   "source": [
    "planner = Agent(\n",
    "    role=\"Content Planner\",\n",
    "    goal=\"Plan engaging and factually accurate content on {topic}\",\n",
    "    backstory=\"You're working on planning a blog article \"\n",
    "              \"about the topic: {topic}.\"\n",
    "              \"You collect information that helps the \"\n",
    "              \"audience learn something \"\n",
    "              \"and make informed decisions. \"\n",
    "              \"Your work is the basis for \"\n",
    "              \"the Content Writer to write an article on this topic.\",\n",
    "    allow_delegation=False,\n",
    "\tverbose=True\n",
    ")"
   ]
  },
  {
   "cell_type": "markdown",
   "metadata": {},
   "source": [
    "### Agent: Writer"
   ]
  },
  {
   "cell_type": "code",
   "execution_count": 6,
   "metadata": {
    "height": 369
   },
   "outputs": [],
   "source": [
    "writer = Agent(\n",
    "    role=\"Content Writer\",\n",
    "    goal=\"Write insightful and factually accurate \"\n",
    "         \"opinion piece about the topic: {topic}\",\n",
    "    backstory=\"You're working on a writing \"\n",
    "              \"a new opinion piece about the topic: {topic}. \"\n",
    "              \"You base your writing on the work of \"\n",
    "              \"the Content Planner, who provides an outline \"\n",
    "              \"and relevant context about the topic. \"\n",
    "              \"You follow the main objectives and \"\n",
    "              \"direction of the outline, \"\n",
    "              \"as provide by the Content Planner. \"\n",
    "              \"You also provide objective and impartial insights \"\n",
    "              \"and back them up with information \"\n",
    "              \"provide by the Content Planner. \"\n",
    "              \"You acknowledge in your opinion piece \"\n",
    "              \"when your statements are opinions \"\n",
    "              \"as opposed to objective statements.\",\n",
    "    allow_delegation=False,\n",
    "    verbose=True\n",
    ")"
   ]
  },
  {
   "cell_type": "markdown",
   "metadata": {},
   "source": [
    "### Agent: Editor"
   ]
  },
  {
   "cell_type": "code",
   "execution_count": 7,
   "metadata": {
    "height": 279
   },
   "outputs": [],
   "source": [
    "editor = Agent(\n",
    "    role=\"Editor\",\n",
    "    goal=\"Edit a given blog post to align with \"\n",
    "         \"the writing style of the organization. \",\n",
    "    backstory=\"You are an editor who receives a blog post \"\n",
    "              \"from the Content Writer. \"\n",
    "              \"Your goal is to review the blog post \"\n",
    "              \"to ensure that it follows journalistic best practices,\"\n",
    "              \"provides balanced viewpoints \"\n",
    "              \"when providing opinions or assertions, \"\n",
    "              \"and also avoids major controversial topics \"\n",
    "              \"or opinions when possible.\",\n",
    "    allow_delegation=False,\n",
    "    verbose=True\n",
    ")"
   ]
  },
  {
   "cell_type": "markdown",
   "metadata": {},
   "source": [
    "## Creating Tasks\n",
    "\n",
    "- Define your Tasks, and provide them a `description`, `expected_output` and `agent`."
   ]
  },
  {
   "cell_type": "markdown",
   "metadata": {},
   "source": [
    "### Task: Plan"
   ]
  },
  {
   "cell_type": "code",
   "execution_count": 8,
   "metadata": {
    "height": 267
   },
   "outputs": [],
   "source": [
    "plan = Task(\n",
    "    description=(\n",
    "        \"1. Prioritize the latest trends, key players, \"\n",
    "            \"and noteworthy news on {topic}.\\n\"\n",
    "        \"2. Identify the target audience, considering \"\n",
    "            \"their interests and pain points.\\n\"\n",
    "        \"3. Develop a detailed content outline including \"\n",
    "            \"an introduction, key points, and a call to action.\\n\"\n",
    "        \"4. Include SEO keywords and relevant data or sources.\"\n",
    "    ),\n",
    "    expected_output=\"A comprehensive content plan document \"\n",
    "        \"with an outline, audience analysis, \"\n",
    "        \"SEO keywords, and resources.\",\n",
    "    agent=planner,\n",
    ")"
   ]
  },
  {
   "cell_type": "markdown",
   "metadata": {},
   "source": [
    "### Task: Write"
   ]
  },
  {
   "cell_type": "code",
   "execution_count": 9,
   "metadata": {
    "height": 318
   },
   "outputs": [],
   "source": [
    "write = Task(\n",
    "    description=(\n",
    "        \"1. Use the content plan to craft a compelling \"\n",
    "            \"blog post on {topic}.\\n\"\n",
    "        \"2. Incorporate SEO keywords naturally.\\n\"\n",
    "\t\t\"3. Sections/Subtitles are properly named \"\n",
    "            \"in an engaging manner.\\n\"\n",
    "        \"4. Ensure the post is structured with an \"\n",
    "            \"engaging introduction, insightful body, \"\n",
    "            \"and a summarizing conclusion.\\n\"\n",
    "        \"5. Proofread for grammatical errors and \"\n",
    "            \"alignment with the brand's voice.\\n\"\n",
    "    ),\n",
    "    expected_output=\"A well-written blog post \"\n",
    "        \"in markdown format, ready for publication, \"\n",
    "        \"each section should have 2 or 3 paragraphs.\",\n",
    "    agent=writer,\n",
    ")"
   ]
  },
  {
   "cell_type": "markdown",
   "metadata": {},
   "source": [
    "### Task: Edit"
   ]
  },
  {
   "cell_type": "code",
   "execution_count": 10,
   "metadata": {
    "height": 177
   },
   "outputs": [],
   "source": [
    "edit = Task(\n",
    "    description=(\"Proofread the given blog post for \"\n",
    "                 \"grammatical errors and \"\n",
    "                 \"alignment with the brand's voice.\"),\n",
    "    expected_output=\"A well-written blog post in markdown format, \"\n",
    "                    \"ready for publication, \"\n",
    "                    \"each section should have 2 or 3 paragraphs.\",\n",
    "    agent=editor\n",
    ")"
   ]
  },
  {
   "cell_type": "markdown",
   "metadata": {},
   "source": [
    "## Creating the Crew\n",
    "\n",
    "- Create your crew of Agents\n",
    "- Pass the tasks to be performed by those agents.\n",
    "    - **Note**: *For this simple example*, the tasks will be performed sequentially (i.e they are dependent on each other), so the _order_ of the task in the list _matters_.\n",
    "- `verbose=2` allows you to see all the logs of the execution. "
   ]
  },
  {
   "cell_type": "code",
   "execution_count": 11,
   "metadata": {
    "height": 97
   },
   "outputs": [],
   "source": [
    "crew = Crew(\n",
    "    agents=[planner, writer, editor],\n",
    "    tasks=[plan, write, edit],\n",
    "    verbose=2\n",
    ")"
   ]
  },
  {
   "cell_type": "markdown",
   "metadata": {},
   "source": [
    "## Running the Crew"
   ]
  },
  {
   "cell_type": "markdown",
   "metadata": {},
   "source": [
    "**Note**: LLMs can provide different outputs for they same input, so what you get might be different than what you see in the video."
   ]
  },
  {
   "cell_type": "code",
   "execution_count": 12,
   "metadata": {
    "height": 29
   },
   "outputs": [
    {
     "name": "stdout",
     "output_type": "stream",
     "text": [
      "\u001b[1m\u001b[95m [DEBUG]: == Working Agent: Content Planner\u001b[00m\n",
      "\u001b[1m\u001b[95m [INFO]: == Starting Task: 1. Prioritize the latest trends, key players, and noteworthy news on Artificial Intelligence.\n",
      "2. Identify the target audience, considering their interests and pain points.\n",
      "3. Develop a detailed content outline including an introduction, key points, and a call to action.\n",
      "4. Include SEO keywords and relevant data or sources.\u001b[00m\n",
      "\n",
      "\n",
      "\u001b[1m> Entering new CrewAgentExecutor chain...\u001b[0m\n",
      "\u001b[32;1m\u001b[1;3mI now can give a great answer\n",
      "\n",
      "Final Answer:\n",
      "Title: The Future of Artificial Intelligence: Latest Trends and Key Players\n",
      "\n",
      "Introduction:\n",
      "Artificial Intelligence (AI) has become a prominent technology in various industries, revolutionizing the way businesses operate and improving efficiency. In this article, we will explore the latest trends and key players in the field of AI, providing valuable insights for our readers.\n",
      "\n",
      "Key Points:\n",
      "1. Latest Trends in Artificial Intelligence:\n",
      "- Machine Learning: The advancement of machine learning algorithms has led to significant improvements in AI capabilities.\n",
      "- Natural Language Processing: AI technologies like chatbots and virtual assistants are becoming increasingly popular.\n",
      "- Computer Vision: AI-powered image recognition systems are being used in security, healthcare, and retail industries.\n",
      "- Autonomous Vehicles: The development of self-driving cars is a key trend in AI technology.\n",
      "\n",
      "2. Key Players in Artificial Intelligence:\n",
      "- Google: Known for its AI research and development, Google has integrated AI into various products such as Google Assistant and Google Photos.\n",
      "- IBM: IBM's Watson AI platform is widely used in industries like healthcare and finance for data analysis and decision-making.\n",
      "- Amazon: Amazon's AI capabilities are evident in its recommendation systems and voice-controlled devices like Alexa.\n",
      "- Microsoft: Microsoft's Azure AI platform offers a range of AI services for businesses, including speech recognition and natural language understanding.\n",
      "\n",
      "3. Target Audience Analysis:\n",
      "Our target audience includes tech enthusiasts, business professionals, and students interested in AI technology. They are looking for in-depth information on the latest trends and key players in the field of AI to stay informed and make informed decisions.\n",
      "\n",
      "4. Call to Action:\n",
      "Stay updated on the latest developments in AI by subscribing to our newsletter and following us on social media for more insightful content.\n",
      "\n",
      "SEO Keywords:\n",
      "- Artificial Intelligence trends\n",
      "- Key players in AI\n",
      "- Latest AI news\n",
      "- Machine learning advancements\n",
      "- Natural Language Processing technologies\n",
      "\n",
      "Resources:\n",
      "- Forbes: \"Top Artificial Intelligence Trends to Watch in 2021\" \n",
      "- TechCrunch: \"The Key Players Shaping the Future of AI\"\n",
      "- Harvard Business Review: \"The Impact of AI on Business Strategies\"\n",
      "\n",
      "By following this content plan, we aim to provide a comprehensive and engaging article on Artificial Intelligence that will resonate with our target audience and position us as a trusted source of information in the AI space.\u001b[0m\n",
      "\n",
      "\u001b[1m> Finished chain.\u001b[0m\n",
      "\u001b[1m\u001b[92m [DEBUG]: == [Content Planner] Task output: Title: The Future of Artificial Intelligence: Latest Trends and Key Players\n",
      "\n",
      "Introduction:\n",
      "Artificial Intelligence (AI) has become a prominent technology in various industries, revolutionizing the way businesses operate and improving efficiency. In this article, we will explore the latest trends and key players in the field of AI, providing valuable insights for our readers.\n",
      "\n",
      "Key Points:\n",
      "1. Latest Trends in Artificial Intelligence:\n",
      "- Machine Learning: The advancement of machine learning algorithms has led to significant improvements in AI capabilities.\n",
      "- Natural Language Processing: AI technologies like chatbots and virtual assistants are becoming increasingly popular.\n",
      "- Computer Vision: AI-powered image recognition systems are being used in security, healthcare, and retail industries.\n",
      "- Autonomous Vehicles: The development of self-driving cars is a key trend in AI technology.\n",
      "\n",
      "2. Key Players in Artificial Intelligence:\n",
      "- Google: Known for its AI research and development, Google has integrated AI into various products such as Google Assistant and Google Photos.\n",
      "- IBM: IBM's Watson AI platform is widely used in industries like healthcare and finance for data analysis and decision-making.\n",
      "- Amazon: Amazon's AI capabilities are evident in its recommendation systems and voice-controlled devices like Alexa.\n",
      "- Microsoft: Microsoft's Azure AI platform offers a range of AI services for businesses, including speech recognition and natural language understanding.\n",
      "\n",
      "3. Target Audience Analysis:\n",
      "Our target audience includes tech enthusiasts, business professionals, and students interested in AI technology. They are looking for in-depth information on the latest trends and key players in the field of AI to stay informed and make informed decisions.\n",
      "\n",
      "4. Call to Action:\n",
      "Stay updated on the latest developments in AI by subscribing to our newsletter and following us on social media for more insightful content.\n",
      "\n",
      "SEO Keywords:\n",
      "- Artificial Intelligence trends\n",
      "- Key players in AI\n",
      "- Latest AI news\n",
      "- Machine learning advancements\n",
      "- Natural Language Processing technologies\n",
      "\n",
      "Resources:\n",
      "- Forbes: \"Top Artificial Intelligence Trends to Watch in 2021\" \n",
      "- TechCrunch: \"The Key Players Shaping the Future of AI\"\n",
      "- Harvard Business Review: \"The Impact of AI on Business Strategies\"\n",
      "\n",
      "By following this content plan, we aim to provide a comprehensive and engaging article on Artificial Intelligence that will resonate with our target audience and position us as a trusted source of information in the AI space.\n",
      "\n",
      "\u001b[00m\n",
      "\u001b[1m\u001b[95m [DEBUG]: == Working Agent: Content Writer\u001b[00m\n",
      "\u001b[1m\u001b[95m [INFO]: == Starting Task: 1. Use the content plan to craft a compelling blog post on Artificial Intelligence.\n",
      "2. Incorporate SEO keywords naturally.\n",
      "3. Sections/Subtitles are properly named in an engaging manner.\n",
      "4. Ensure the post is structured with an engaging introduction, insightful body, and a summarizing conclusion.\n",
      "5. Proofread for grammatical errors and alignment with the brand's voice.\n",
      "\u001b[00m\n",
      "\n",
      "\n",
      "\u001b[1m> Entering new CrewAgentExecutor chain...\u001b[0m\n",
      "\u001b[32;1m\u001b[1;3mI now can give a great answer\n",
      "\n",
      "Final Answer:\n",
      "\n",
      "# The Future of Artificial Intelligence: Latest Trends and Key Players\n",
      "\n",
      "Artificial Intelligence (AI) has rapidly evolved to become a driving force behind innovation in various industries, reshaping the landscape of business operations and enhancing efficiency. In this article, we delve into the latest trends and key players in the realm of AI, offering valuable insights for our readers.\n",
      "\n",
      "## Latest Trends in Artificial Intelligence\n",
      "\n",
      "**Machine Learning:** The progression of machine learning algorithms has propelled AI capabilities to new heights, enabling systems to learn and improve from data without explicit programming.\n",
      "\n",
      "**Natural Language Processing:** AI applications such as chatbots and virtual assistants are gaining popularity, revolutionizing customer interactions and streamlining communication processes.\n",
      "\n",
      "**Computer Vision:** AI-driven image recognition systems are being deployed across industries such as security, healthcare, and retail, enhancing efficiency and accuracy in various processes.\n",
      "\n",
      "**Autonomous Vehicles:** The development of self-driving cars represents a pivotal trend in AI technology, with companies investing heavily in research and development to make autonomous vehicles a reality on our roads.\n",
      "\n",
      "## Key Players in Artificial Intelligence\n",
      "\n",
      "**Google:** Renowned for its AI research and development efforts, Google has seamlessly integrated AI into products like Google Assistant and Google Photos, setting new benchmarks in user experience.\n",
      "\n",
      "**IBM:** With its Watson AI platform, IBM has made significant strides in leveraging AI for data analysis and decision-making in sectors like healthcare and finance, demonstrating the power of AI in transforming industries.\n",
      "\n",
      "**Amazon:** Amazon's AI capabilities are evident in its sophisticated recommendation systems and voice-controlled devices like Alexa, showcasing the company's commitment to enhancing user experiences through AI technology.\n",
      "\n",
      "**Microsoft:** Through its Azure AI platform, Microsoft offers a diverse range of AI services for businesses, including speech recognition and natural language understanding, empowering organizations to harness the power of AI for enhanced operations.\n",
      "\n",
      "## Target Audience Analysis\n",
      "\n",
      "Our target audience comprises tech enthusiasts, business professionals, and students with a keen interest in AI technology. They seek comprehensive insights into the latest trends and key players in the AI landscape to stay abreast of developments and make informed decisions in their respective fields.\n",
      "\n",
      "## Call to Action\n",
      "\n",
      "To stay informed on the latest advancements in AI and receive insightful content, we encourage you to subscribe to our newsletter and follow us on social media. Join us on this exciting journey of exploring the forefront of Artificial Intelligence and its transformative impact on industries worldwide.\n",
      "\n",
      "By aligning with this content plan, we aim to deliver a compelling and informative article on Artificial Intelligence that resonates with our target audience, establishing us as a trusted source of knowledge in the dynamic realm of AI technology.\u001b[0m\n",
      "\n",
      "\u001b[1m> Finished chain.\u001b[0m\n",
      "\u001b[1m\u001b[92m [DEBUG]: == [Content Writer] Task output: # The Future of Artificial Intelligence: Latest Trends and Key Players\n",
      "\n",
      "Artificial Intelligence (AI) has rapidly evolved to become a driving force behind innovation in various industries, reshaping the landscape of business operations and enhancing efficiency. In this article, we delve into the latest trends and key players in the realm of AI, offering valuable insights for our readers.\n",
      "\n",
      "## Latest Trends in Artificial Intelligence\n",
      "\n",
      "**Machine Learning:** The progression of machine learning algorithms has propelled AI capabilities to new heights, enabling systems to learn and improve from data without explicit programming.\n",
      "\n",
      "**Natural Language Processing:** AI applications such as chatbots and virtual assistants are gaining popularity, revolutionizing customer interactions and streamlining communication processes.\n",
      "\n",
      "**Computer Vision:** AI-driven image recognition systems are being deployed across industries such as security, healthcare, and retail, enhancing efficiency and accuracy in various processes.\n",
      "\n",
      "**Autonomous Vehicles:** The development of self-driving cars represents a pivotal trend in AI technology, with companies investing heavily in research and development to make autonomous vehicles a reality on our roads.\n",
      "\n",
      "## Key Players in Artificial Intelligence\n",
      "\n",
      "**Google:** Renowned for its AI research and development efforts, Google has seamlessly integrated AI into products like Google Assistant and Google Photos, setting new benchmarks in user experience.\n",
      "\n",
      "**IBM:** With its Watson AI platform, IBM has made significant strides in leveraging AI for data analysis and decision-making in sectors like healthcare and finance, demonstrating the power of AI in transforming industries.\n",
      "\n",
      "**Amazon:** Amazon's AI capabilities are evident in its sophisticated recommendation systems and voice-controlled devices like Alexa, showcasing the company's commitment to enhancing user experiences through AI technology.\n",
      "\n",
      "**Microsoft:** Through its Azure AI platform, Microsoft offers a diverse range of AI services for businesses, including speech recognition and natural language understanding, empowering organizations to harness the power of AI for enhanced operations.\n",
      "\n",
      "## Target Audience Analysis\n",
      "\n",
      "Our target audience comprises tech enthusiasts, business professionals, and students with a keen interest in AI technology. They seek comprehensive insights into the latest trends and key players in the AI landscape to stay abreast of developments and make informed decisions in their respective fields.\n",
      "\n",
      "## Call to Action\n",
      "\n",
      "To stay informed on the latest advancements in AI and receive insightful content, we encourage you to subscribe to our newsletter and follow us on social media. Join us on this exciting journey of exploring the forefront of Artificial Intelligence and its transformative impact on industries worldwide.\n",
      "\n",
      "By aligning with this content plan, we aim to deliver a compelling and informative article on Artificial Intelligence that resonates with our target audience, establishing us as a trusted source of knowledge in the dynamic realm of AI technology.\n",
      "\n",
      "\u001b[00m\n",
      "\u001b[1m\u001b[95m [DEBUG]: == Working Agent: Editor\u001b[00m\n",
      "\u001b[1m\u001b[95m [INFO]: == Starting Task: Proofread the given blog post for grammatical errors and alignment with the brand's voice.\u001b[00m\n",
      "\n",
      "\n",
      "\u001b[1m> Entering new CrewAgentExecutor chain...\u001b[0m\n",
      "\u001b[32;1m\u001b[1;3mI now can give a great answer\n",
      "\n",
      "Final Answer:\n",
      "# The Future of Artificial Intelligence: Latest Trends and Key Players\n",
      "\n",
      "Artificial Intelligence (AI) is rapidly shaping the future of various industries, driving innovation and efficiency. In this article, we explore the latest trends and key players in the AI landscape, providing valuable insights for our readers.\n",
      "\n",
      "## Latest Trends in Artificial Intelligence\n",
      "\n",
      "**Machine Learning:** The evolution of machine learning algorithms has revolutionized AI capabilities, allowing systems to learn and improve from data autonomously.\n",
      "\n",
      "**Natural Language Processing:** AI applications like chatbots and virtual assistants are transforming customer interactions and communication processes.\n",
      "\n",
      "**Computer Vision:** AI-powered image recognition systems are enhancing efficiency and accuracy across industries such as security, healthcare, and retail.\n",
      "\n",
      "**Autonomous Vehicles:** The progress in self-driving cars signifies a major trend in AI technology, with significant investments being made to bring autonomous vehicles to reality.\n",
      "\n",
      "## Key Players in Artificial Intelligence\n",
      "\n",
      "**Google:** Known for its advancements in AI research, Google has integrated AI into products like Google Assistant and Google Photos, setting new standards in user experience.\n",
      "\n",
      "**IBM:** Leveraging its Watson AI platform, IBM is utilizing AI for data analysis and decision-making in sectors like healthcare and finance, showcasing AI's transformative potential.\n",
      "\n",
      "**Amazon:** Amazon's AI capabilities are evident in its personalized recommendation systems and voice-controlled devices like Alexa, enhancing user experiences through AI technology.\n",
      "\n",
      "**Microsoft:** Through its Azure AI platform, Microsoft offers various AI services for businesses, including speech recognition and natural language understanding, empowering organizations to optimize operations.\n",
      "\n",
      "## Target Audience Analysis\n",
      "\n",
      "Our target audience includes tech enthusiasts, business professionals, and students interested in AI technology. They seek comprehensive insights into AI trends and players to make informed decisions in their fields.\n",
      "\n",
      "## Call to Action\n",
      "\n",
      "To stay updated on AI advancements and receive insightful content, we invite you to subscribe to our newsletter and follow us on social media. Join us on this journey of exploring the forefront of Artificial Intelligence and its impact on industries worldwide.\n",
      "\n",
      "By adhering to this content strategy, we aim to deliver an engaging and informative article on AI that resonates with our audience, positioning us as a reliable source of knowledge in the dynamic AI landscape.\u001b[0m\n",
      "\n",
      "\u001b[1m> Finished chain.\u001b[0m\n",
      "\u001b[1m\u001b[92m [DEBUG]: == [Editor] Task output: # The Future of Artificial Intelligence: Latest Trends and Key Players\n",
      "\n",
      "Artificial Intelligence (AI) is rapidly shaping the future of various industries, driving innovation and efficiency. In this article, we explore the latest trends and key players in the AI landscape, providing valuable insights for our readers.\n",
      "\n",
      "## Latest Trends in Artificial Intelligence\n",
      "\n",
      "**Machine Learning:** The evolution of machine learning algorithms has revolutionized AI capabilities, allowing systems to learn and improve from data autonomously.\n",
      "\n",
      "**Natural Language Processing:** AI applications like chatbots and virtual assistants are transforming customer interactions and communication processes.\n",
      "\n",
      "**Computer Vision:** AI-powered image recognition systems are enhancing efficiency and accuracy across industries such as security, healthcare, and retail.\n",
      "\n",
      "**Autonomous Vehicles:** The progress in self-driving cars signifies a major trend in AI technology, with significant investments being made to bring autonomous vehicles to reality.\n",
      "\n",
      "## Key Players in Artificial Intelligence\n",
      "\n",
      "**Google:** Known for its advancements in AI research, Google has integrated AI into products like Google Assistant and Google Photos, setting new standards in user experience.\n",
      "\n",
      "**IBM:** Leveraging its Watson AI platform, IBM is utilizing AI for data analysis and decision-making in sectors like healthcare and finance, showcasing AI's transformative potential.\n",
      "\n",
      "**Amazon:** Amazon's AI capabilities are evident in its personalized recommendation systems and voice-controlled devices like Alexa, enhancing user experiences through AI technology.\n",
      "\n",
      "**Microsoft:** Through its Azure AI platform, Microsoft offers various AI services for businesses, including speech recognition and natural language understanding, empowering organizations to optimize operations.\n",
      "\n",
      "## Target Audience Analysis\n",
      "\n",
      "Our target audience includes tech enthusiasts, business professionals, and students interested in AI technology. They seek comprehensive insights into AI trends and players to make informed decisions in their fields.\n",
      "\n",
      "## Call to Action\n",
      "\n",
      "To stay updated on AI advancements and receive insightful content, we invite you to subscribe to our newsletter and follow us on social media. Join us on this journey of exploring the forefront of Artificial Intelligence and its impact on industries worldwide.\n",
      "\n",
      "By adhering to this content strategy, we aim to deliver an engaging and informative article on AI that resonates with our audience, positioning us as a reliable source of knowledge in the dynamic AI landscape.\n",
      "\n",
      "\u001b[00m\n"
     ]
    }
   ],
   "source": [
    "result = crew.kickoff(inputs={\"topic\": \"Artificial Intelligence\"})"
   ]
  },
  {
   "cell_type": "markdown",
   "metadata": {},
   "source": [
    "- Display the results of your execution as markdown in the notebook."
   ]
  },
  {
   "cell_type": "code",
   "execution_count": 13,
   "metadata": {
    "height": 46
   },
   "outputs": [
    {
     "data": {
      "text/markdown": [
       "# The Future of Artificial Intelligence: Latest Trends and Key Players\n",
       "\n",
       "Artificial Intelligence (AI) is rapidly shaping the future of various industries, driving innovation and efficiency. In this article, we explore the latest trends and key players in the AI landscape, providing valuable insights for our readers.\n",
       "\n",
       "## Latest Trends in Artificial Intelligence\n",
       "\n",
       "**Machine Learning:** The evolution of machine learning algorithms has revolutionized AI capabilities, allowing systems to learn and improve from data autonomously.\n",
       "\n",
       "**Natural Language Processing:** AI applications like chatbots and virtual assistants are transforming customer interactions and communication processes.\n",
       "\n",
       "**Computer Vision:** AI-powered image recognition systems are enhancing efficiency and accuracy across industries such as security, healthcare, and retail.\n",
       "\n",
       "**Autonomous Vehicles:** The progress in self-driving cars signifies a major trend in AI technology, with significant investments being made to bring autonomous vehicles to reality.\n",
       "\n",
       "## Key Players in Artificial Intelligence\n",
       "\n",
       "**Google:** Known for its advancements in AI research, Google has integrated AI into products like Google Assistant and Google Photos, setting new standards in user experience.\n",
       "\n",
       "**IBM:** Leveraging its Watson AI platform, IBM is utilizing AI for data analysis and decision-making in sectors like healthcare and finance, showcasing AI's transformative potential.\n",
       "\n",
       "**Amazon:** Amazon's AI capabilities are evident in its personalized recommendation systems and voice-controlled devices like Alexa, enhancing user experiences through AI technology.\n",
       "\n",
       "**Microsoft:** Through its Azure AI platform, Microsoft offers various AI services for businesses, including speech recognition and natural language understanding, empowering organizations to optimize operations.\n",
       "\n",
       "## Target Audience Analysis\n",
       "\n",
       "Our target audience includes tech enthusiasts, business professionals, and students interested in AI technology. They seek comprehensive insights into AI trends and players to make informed decisions in their fields.\n",
       "\n",
       "## Call to Action\n",
       "\n",
       "To stay updated on AI advancements and receive insightful content, we invite you to subscribe to our newsletter and follow us on social media. Join us on this journey of exploring the forefront of Artificial Intelligence and its impact on industries worldwide.\n",
       "\n",
       "By adhering to this content strategy, we aim to deliver an engaging and informative article on AI that resonates with our audience, positioning us as a reliable source of knowledge in the dynamic AI landscape."
      ],
      "text/plain": [
       "<IPython.core.display.Markdown object>"
      ]
     },
     "execution_count": 13,
     "metadata": {},
     "output_type": "execute_result"
    }
   ],
   "source": [
    "from IPython.display import Markdown\n",
    "Markdown(result)"
   ]
  },
  {
   "cell_type": "markdown",
   "metadata": {},
   "source": [
    "## Try it Yourself\n",
    "\n",
    "- Pass in a topic of your choice and see what the agents come up with!"
   ]
  },
  {
   "cell_type": "code",
   "execution_count": 13,
   "metadata": {
    "height": 46
   },
   "outputs": [
    {
     "name": "stdout",
     "output_type": "stream",
     "text": [
      "\u001b[1m\u001b[95m [DEBUG]: == Working Agent: Content Planner\u001b[00m\n",
      "\u001b[1m\u001b[95m [INFO]: == Starting Task: 1. Prioritize the latest trends, key players, and noteworthy news on YOUR TOPIC HERE.\n",
      "2. Identify the target audience, considering their interests and pain points.\n",
      "3. Develop a detailed content outline including an introduction, key points, and a call to action.\n",
      "4. Include SEO keywords and relevant data or sources.\u001b[00m\n",
      "\n",
      "\n",
      "\u001b[1m> Entering new CrewAgentExecutor chain...\u001b[0m\n",
      "\u001b[32;1m\u001b[1;3mI now can give a great answer\n",
      "\n",
      "Final Answer: \n",
      "\n",
      "Content Plan: \n",
      "\n",
      "Title: Exploring the Latest Trends in Digital Marketing\n",
      "\n",
      "Outline:\n",
      "I. Introduction\n",
      "- Brief overview of digital marketing\n",
      "- Importance of staying updated on latest trends\n",
      "\n",
      "II. Latest Trends in Digital Marketing\n",
      "A. Video Marketing\n",
      "- Rise of video content on social media platforms\n",
      "- Importance of incorporating video into digital marketing strategies\n",
      "B. Artificial Intelligence\n",
      "- Use of AI in personalized marketing campaigns\n",
      "- Impact of AI on customer experience\n",
      "C. Voice Search Optimization\n",
      "- Growth of voice search usage\n",
      "- Strategies for optimizing content for voice search\n",
      "D. Influencer Marketing\n",
      "- Role of influencers in digital marketing\n",
      "- Benefits of collaborating with influencers\n",
      "\n",
      "III. Key Players in Digital Marketing\n",
      "A. Google\n",
      "- Overview of Google's impact on digital marketing\n",
      "B. Facebook\n",
      "- Importance of Facebook for social media marketing\n",
      "C. Amazon\n",
      "- Role of Amazon in e-commerce marketing\n",
      "\n",
      "IV. Noteworthy News in Digital Marketing\n",
      "- Recent updates in social media algorithms\n",
      "- Emerging technologies in digital marketing\n",
      "\n",
      "V. Target Audience Analysis\n",
      "- Digital marketing professionals looking to stay updated on industry trends\n",
      "- Small business owners seeking to improve their digital marketing strategies\n",
      "\n",
      "VI. SEO Keywords\n",
      "- Digital marketing trends\n",
      "- Latest digital marketing news\n",
      "- Influencer marketing strategies\n",
      "\n",
      "VII. Resources\n",
      "- HubSpot\n",
      "- Moz\n",
      "- Social Media Examiner\n",
      "- Digital Marketing Institute\n",
      "\n",
      "Call to Action: Stay ahead of the curve by implementing the latest digital marketing trends in your strategies. Keep learning and adapting to stay competitive in the ever-evolving digital landscape. \n",
      "\n",
      "This comprehensive content plan covers the latest trends, key players, and noteworthy news in digital marketing, tailored to the target audience's interests and pain points. By incorporating SEO keywords and relevant resources, this article aims to provide valuable insights for readers looking to enhance their digital marketing knowledge and strategies.\u001b[0m\n",
      "\n",
      "\u001b[1m> Finished chain.\u001b[0m\n",
      "\u001b[1m\u001b[92m [DEBUG]: == [Content Planner] Task output: Content Plan: \n",
      "\n",
      "Title: Exploring the Latest Trends in Digital Marketing\n",
      "\n",
      "Outline:\n",
      "I. Introduction\n",
      "- Brief overview of digital marketing\n",
      "- Importance of staying updated on latest trends\n",
      "\n",
      "II. Latest Trends in Digital Marketing\n",
      "A. Video Marketing\n",
      "- Rise of video content on social media platforms\n",
      "- Importance of incorporating video into digital marketing strategies\n",
      "B. Artificial Intelligence\n",
      "- Use of AI in personalized marketing campaigns\n",
      "- Impact of AI on customer experience\n",
      "C. Voice Search Optimization\n",
      "- Growth of voice search usage\n",
      "- Strategies for optimizing content for voice search\n",
      "D. Influencer Marketing\n",
      "- Role of influencers in digital marketing\n",
      "- Benefits of collaborating with influencers\n",
      "\n",
      "III. Key Players in Digital Marketing\n",
      "A. Google\n",
      "- Overview of Google's impact on digital marketing\n",
      "B. Facebook\n",
      "- Importance of Facebook for social media marketing\n",
      "C. Amazon\n",
      "- Role of Amazon in e-commerce marketing\n",
      "\n",
      "IV. Noteworthy News in Digital Marketing\n",
      "- Recent updates in social media algorithms\n",
      "- Emerging technologies in digital marketing\n",
      "\n",
      "V. Target Audience Analysis\n",
      "- Digital marketing professionals looking to stay updated on industry trends\n",
      "- Small business owners seeking to improve their digital marketing strategies\n",
      "\n",
      "VI. SEO Keywords\n",
      "- Digital marketing trends\n",
      "- Latest digital marketing news\n",
      "- Influencer marketing strategies\n",
      "\n",
      "VII. Resources\n",
      "- HubSpot\n",
      "- Moz\n",
      "- Social Media Examiner\n",
      "- Digital Marketing Institute\n",
      "\n",
      "Call to Action: Stay ahead of the curve by implementing the latest digital marketing trends in your strategies. Keep learning and adapting to stay competitive in the ever-evolving digital landscape. \n",
      "\n",
      "This comprehensive content plan covers the latest trends, key players, and noteworthy news in digital marketing, tailored to the target audience's interests and pain points. By incorporating SEO keywords and relevant resources, this article aims to provide valuable insights for readers looking to enhance their digital marketing knowledge and strategies.\n",
      "\n",
      "\u001b[00m\n",
      "\u001b[1m\u001b[95m [DEBUG]: == Working Agent: Content Writer\u001b[00m\n",
      "\u001b[1m\u001b[95m [INFO]: == Starting Task: 1. Use the content plan to craft a compelling blog post on YOUR TOPIC HERE.\n",
      "2. Incorporate SEO keywords naturally.\n",
      "3. Sections/Subtitles are properly named in an engaging manner.\n",
      "4. Ensure the post is structured with an engaging introduction, insightful body, and a summarizing conclusion.\n",
      "5. Proofread for grammatical errors and alignment with the brand's voice.\n",
      "\u001b[00m\n",
      "\n",
      "\n",
      "\u001b[1m> Entering new CrewAgentExecutor chain...\u001b[0m\n",
      "\u001b[32;1m\u001b[1;3mI now can give a great answer\n",
      "\n",
      "Final Answer:\n",
      "\n",
      "# Exploring the Latest Trends in Digital Marketing\n",
      "\n",
      "In today's fast-paced digital landscape, staying updated on the latest trends in digital marketing is crucial for both professionals and businesses. As technology continues to evolve, new opportunities and challenges arise, making it essential to adapt and innovate in order to stay competitive. This article will delve into the most recent trends shaping the digital marketing industry, from video marketing to artificial intelligence, and provide valuable insights for readers looking to enhance their strategies.\n",
      "\n",
      "## Latest Trends in Digital Marketing\n",
      "\n",
      "### Video Marketing\n",
      "Video content has become increasingly popular across social media platforms, with platforms like Instagram, TikTok, and YouTube leading the way. The rise of short-form videos and live streaming has revolutionized how brands engage with their audiences, offering a more interactive and immersive experience. Incorporating video into digital marketing strategies has become a necessity, as it allows for more creative storytelling and better engagement with consumers.\n",
      "\n",
      "### Artificial Intelligence\n",
      "Artificial Intelligence (AI) is transforming the way marketers approach personalized campaigns and customer experiences. By leveraging AI-powered tools, businesses can analyze data more effectively, predict consumer behavior, and deliver targeted content to the right audience at the right time. From chatbots to recommendation engines, AI is reshaping the digital marketing landscape and helping brands drive more meaningful interactions with their customers.\n",
      "\n",
      "### Voice Search Optimization\n",
      "With the increasing popularity of voice assistants like Siri, Alexa, and Google Assistant, optimizing content for voice search has become a priority for digital marketers. Voice search usage is on the rise, and businesses need to adapt their SEO strategies to cater to this new trend. By focusing on long-tail keywords, natural language, and providing concise answers to common queries, brands can improve their visibility in voice search results and enhance the overall user experience.\n",
      "\n",
      "### Influencer Marketing\n",
      "Influencers play a significant role in digital marketing, as they have the power to sway consumer opinions and drive purchase decisions. Collaborating with influencers can help brands reach a larger audience, build credibility, and create authentic connections with consumers. By partnering with influencers who align with their values and target audience, businesses can leverage their influence to boost brand awareness and generate leads.\n",
      "\n",
      "Stay ahead of the curve by implementing these latest digital marketing trends in your strategies. Keep learning and adapting to stay competitive in the ever-evolving digital landscape.\n",
      "\n",
      "Sources:\n",
      "- HubSpot\n",
      "- Moz\n",
      "- Social Media Examiner\n",
      "- Digital Marketing Institute\u001b[0m\n",
      "\n",
      "\u001b[1m> Finished chain.\u001b[0m\n",
      "\u001b[1m\u001b[92m [DEBUG]: == [Content Writer] Task output: # Exploring the Latest Trends in Digital Marketing\n",
      "\n",
      "In today's fast-paced digital landscape, staying updated on the latest trends in digital marketing is crucial for both professionals and businesses. As technology continues to evolve, new opportunities and challenges arise, making it essential to adapt and innovate in order to stay competitive. This article will delve into the most recent trends shaping the digital marketing industry, from video marketing to artificial intelligence, and provide valuable insights for readers looking to enhance their strategies.\n",
      "\n",
      "## Latest Trends in Digital Marketing\n",
      "\n",
      "### Video Marketing\n",
      "Video content has become increasingly popular across social media platforms, with platforms like Instagram, TikTok, and YouTube leading the way. The rise of short-form videos and live streaming has revolutionized how brands engage with their audiences, offering a more interactive and immersive experience. Incorporating video into digital marketing strategies has become a necessity, as it allows for more creative storytelling and better engagement with consumers.\n",
      "\n",
      "### Artificial Intelligence\n",
      "Artificial Intelligence (AI) is transforming the way marketers approach personalized campaigns and customer experiences. By leveraging AI-powered tools, businesses can analyze data more effectively, predict consumer behavior, and deliver targeted content to the right audience at the right time. From chatbots to recommendation engines, AI is reshaping the digital marketing landscape and helping brands drive more meaningful interactions with their customers.\n",
      "\n",
      "### Voice Search Optimization\n",
      "With the increasing popularity of voice assistants like Siri, Alexa, and Google Assistant, optimizing content for voice search has become a priority for digital marketers. Voice search usage is on the rise, and businesses need to adapt their SEO strategies to cater to this new trend. By focusing on long-tail keywords, natural language, and providing concise answers to common queries, brands can improve their visibility in voice search results and enhance the overall user experience.\n",
      "\n",
      "### Influencer Marketing\n",
      "Influencers play a significant role in digital marketing, as they have the power to sway consumer opinions and drive purchase decisions. Collaborating with influencers can help brands reach a larger audience, build credibility, and create authentic connections with consumers. By partnering with influencers who align with their values and target audience, businesses can leverage their influence to boost brand awareness and generate leads.\n",
      "\n",
      "Stay ahead of the curve by implementing these latest digital marketing trends in your strategies. Keep learning and adapting to stay competitive in the ever-evolving digital landscape.\n",
      "\n",
      "Sources:\n",
      "- HubSpot\n",
      "- Moz\n",
      "- Social Media Examiner\n",
      "- Digital Marketing Institute\n",
      "\n",
      "\u001b[00m\n",
      "\u001b[1m\u001b[95m [DEBUG]: == Working Agent: Editor\u001b[00m\n",
      "\u001b[1m\u001b[95m [INFO]: == Starting Task: Proofread the given blog post for grammatical errors and alignment with the brand's voice.\u001b[00m\n",
      "\n",
      "\n",
      "\u001b[1m> Entering new CrewAgentExecutor chain...\u001b[0m\n"
     ]
    },
    {
     "name": "stdout",
     "output_type": "stream",
     "text": [
      "\u001b[32;1m\u001b[1;3mI now can give a great answer\n",
      "\n",
      "Final Answer:\n",
      "\n",
      "# Exploring the Latest Trends in Digital Marketing\n",
      "\n",
      "In today's fast-paced digital landscape, staying updated on the latest trends in digital marketing is crucial for both professionals and businesses. As technology continues to evolve, new opportunities and challenges arise, making it essential to adapt and innovate in order to stay competitive. This article delves into the most recent trends shaping the digital marketing industry, from video marketing to artificial intelligence, and provides valuable insights for readers looking to enhance their strategies.\n",
      "\n",
      "## Latest Trends in Digital Marketing\n",
      "\n",
      "### Video Marketing\n",
      "Video content has become increasingly popular across social media platforms, with platforms like Instagram, TikTok, and YouTube leading the way. The rise of short-form videos and live streaming has revolutionized how brands engage with their audiences, offering a more interactive and immersive experience. Incorporating video into digital marketing strategies has become a necessity, as it allows for more creative storytelling and better engagement with consumers.\n",
      "\n",
      "### Artificial Intelligence\n",
      "Artificial Intelligence (AI) is transforming the way marketers approach personalized campaigns and customer experiences. By leveraging AI-powered tools, businesses can analyze data more effectively, predict consumer behavior, and deliver targeted content to the right audience at the right time. From chatbots to recommendation engines, AI is reshaping the digital marketing landscape and helping brands drive more meaningful interactions with their customers.\n",
      "\n",
      "### Voice Search Optimization\n",
      "With the increasing popularity of voice assistants like Siri, Alexa, and Google Assistant, optimizing content for voice search has become a priority for digital marketers. Voice search usage is on the rise, and businesses need to adapt their SEO strategies to cater to this new trend. By focusing on long-tail keywords, natural language, and providing concise answers to common queries, brands can improve their visibility in voice search results and enhance the overall user experience.\n",
      "\n",
      "### Influencer Marketing\n",
      "Influencers play a significant role in digital marketing, as they have the power to sway consumer opinions and drive purchase decisions. Collaborating with influencers can help brands reach a larger audience, build credibility, and create authentic connections with consumers. By partnering with influencers who align with their values and target audience, businesses can leverage their influence to boost brand awareness and generate leads.\n",
      "\n",
      "Stay ahead of the curve by implementing these latest digital marketing trends in your strategies. Keep learning and adapting to stay competitive in the ever-evolving digital landscape.\n",
      "\n",
      "Sources:\n",
      "- HubSpot\n",
      "- Moz\n",
      "- Social Media Examiner\n",
      "- Digital Marketing Institute\u001b[0m\n",
      "\n",
      "\u001b[1m> Finished chain.\u001b[0m\n",
      "\u001b[1m\u001b[92m [DEBUG]: == [Editor] Task output: # Exploring the Latest Trends in Digital Marketing\n",
      "\n",
      "In today's fast-paced digital landscape, staying updated on the latest trends in digital marketing is crucial for both professionals and businesses. As technology continues to evolve, new opportunities and challenges arise, making it essential to adapt and innovate in order to stay competitive. This article delves into the most recent trends shaping the digital marketing industry, from video marketing to artificial intelligence, and provides valuable insights for readers looking to enhance their strategies.\n",
      "\n",
      "## Latest Trends in Digital Marketing\n",
      "\n",
      "### Video Marketing\n",
      "Video content has become increasingly popular across social media platforms, with platforms like Instagram, TikTok, and YouTube leading the way. The rise of short-form videos and live streaming has revolutionized how brands engage with their audiences, offering a more interactive and immersive experience. Incorporating video into digital marketing strategies has become a necessity, as it allows for more creative storytelling and better engagement with consumers.\n",
      "\n",
      "### Artificial Intelligence\n",
      "Artificial Intelligence (AI) is transforming the way marketers approach personalized campaigns and customer experiences. By leveraging AI-powered tools, businesses can analyze data more effectively, predict consumer behavior, and deliver targeted content to the right audience at the right time. From chatbots to recommendation engines, AI is reshaping the digital marketing landscape and helping brands drive more meaningful interactions with their customers.\n",
      "\n",
      "### Voice Search Optimization\n",
      "With the increasing popularity of voice assistants like Siri, Alexa, and Google Assistant, optimizing content for voice search has become a priority for digital marketers. Voice search usage is on the rise, and businesses need to adapt their SEO strategies to cater to this new trend. By focusing on long-tail keywords, natural language, and providing concise answers to common queries, brands can improve their visibility in voice search results and enhance the overall user experience.\n",
      "\n",
      "### Influencer Marketing\n",
      "Influencers play a significant role in digital marketing, as they have the power to sway consumer opinions and drive purchase decisions. Collaborating with influencers can help brands reach a larger audience, build credibility, and create authentic connections with consumers. By partnering with influencers who align with their values and target audience, businesses can leverage their influence to boost brand awareness and generate leads.\n",
      "\n",
      "Stay ahead of the curve by implementing these latest digital marketing trends in your strategies. Keep learning and adapting to stay competitive in the ever-evolving digital landscape.\n",
      "\n",
      "Sources:\n",
      "- HubSpot\n",
      "- Moz\n",
      "- Social Media Examiner\n",
      "- Digital Marketing Institute\n",
      "\n",
      "\u001b[00m\n"
     ]
    }
   ],
   "source": [
    "topic = \"YOUR TOPIC HERE\"\n",
    "result = crew.kickoff(inputs={\"topic\": topic})"
   ]
  },
  {
   "cell_type": "code",
   "execution_count": 14,
   "metadata": {
    "height": 29
   },
   "outputs": [
    {
     "data": {
      "text/markdown": [
       "# Exploring the Latest Trends in Digital Marketing\n",
       "\n",
       "In today's fast-paced digital landscape, staying updated on the latest trends in digital marketing is crucial for both professionals and businesses. As technology continues to evolve, new opportunities and challenges arise, making it essential to adapt and innovate in order to stay competitive. This article delves into the most recent trends shaping the digital marketing industry, from video marketing to artificial intelligence, and provides valuable insights for readers looking to enhance their strategies.\n",
       "\n",
       "## Latest Trends in Digital Marketing\n",
       "\n",
       "### Video Marketing\n",
       "Video content has become increasingly popular across social media platforms, with platforms like Instagram, TikTok, and YouTube leading the way. The rise of short-form videos and live streaming has revolutionized how brands engage with their audiences, offering a more interactive and immersive experience. Incorporating video into digital marketing strategies has become a necessity, as it allows for more creative storytelling and better engagement with consumers.\n",
       "\n",
       "### Artificial Intelligence\n",
       "Artificial Intelligence (AI) is transforming the way marketers approach personalized campaigns and customer experiences. By leveraging AI-powered tools, businesses can analyze data more effectively, predict consumer behavior, and deliver targeted content to the right audience at the right time. From chatbots to recommendation engines, AI is reshaping the digital marketing landscape and helping brands drive more meaningful interactions with their customers.\n",
       "\n",
       "### Voice Search Optimization\n",
       "With the increasing popularity of voice assistants like Siri, Alexa, and Google Assistant, optimizing content for voice search has become a priority for digital marketers. Voice search usage is on the rise, and businesses need to adapt their SEO strategies to cater to this new trend. By focusing on long-tail keywords, natural language, and providing concise answers to common queries, brands can improve their visibility in voice search results and enhance the overall user experience.\n",
       "\n",
       "### Influencer Marketing\n",
       "Influencers play a significant role in digital marketing, as they have the power to sway consumer opinions and drive purchase decisions. Collaborating with influencers can help brands reach a larger audience, build credibility, and create authentic connections with consumers. By partnering with influencers who align with their values and target audience, businesses can leverage their influence to boost brand awareness and generate leads.\n",
       "\n",
       "Stay ahead of the curve by implementing these latest digital marketing trends in your strategies. Keep learning and adapting to stay competitive in the ever-evolving digital landscape.\n",
       "\n",
       "Sources:\n",
       "- HubSpot\n",
       "- Moz\n",
       "- Social Media Examiner\n",
       "- Digital Marketing Institute"
      ],
      "text/plain": [
       "<IPython.core.display.Markdown object>"
      ]
     },
     "execution_count": 14,
     "metadata": {},
     "output_type": "execute_result"
    }
   ],
   "source": [
    "Markdown(result)"
   ]
  },
  {
   "cell_type": "markdown",
   "metadata": {},
   "source": [
    "<a name='1'></a>\n",
    " ## Other Popular Models as LLM for your Agents"
   ]
  },
  {
   "cell_type": "markdown",
   "metadata": {},
   "source": [
    "#### Hugging Face (HuggingFaceHub endpoint)\n",
    "\n",
    "```Python\n",
    "from langchain_community.llms import HuggingFaceHub\n",
    "\n",
    "llm = HuggingFaceHub(\n",
    "    repo_id=\"HuggingFaceH4/zephyr-7b-beta\",\n",
    "    huggingfacehub_api_token=\"<HF_TOKEN_HERE>\",\n",
    "    task=\"text-generation\",\n",
    ")\n",
    "\n",
    "### you will pass \"llm\" to your agent function\n",
    "```"
   ]
  },
  {
   "cell_type": "markdown",
   "metadata": {},
   "source": [
    "#### Mistral API\n",
    "\n",
    "```Python\n",
    "OPENAI_API_KEY=your-mistral-api-key\n",
    "OPENAI_API_BASE=https://api.mistral.ai/v1\n",
    "OPENAI_MODEL_NAME=\"mistral-small\"\n",
    "```"
   ]
  },
  {
   "cell_type": "markdown",
   "metadata": {},
   "source": [
    "#### Cohere\n",
    "\n",
    "```Python\n",
    "from langchain_community.chat_models import ChatCohere\n",
    "# Initialize language model\n",
    "os.environ[\"COHERE_API_KEY\"] = \"your-cohere-api-key\"\n",
    "llm = ChatCohere()\n",
    "\n",
    "### you will pass \"llm\" to your agent function\n",
    "```"
   ]
  },
  {
   "cell_type": "markdown",
   "metadata": {},
   "source": [
    "### For using Llama locally with Ollama and more, checkout the crewAI documentation on [Connecting to any LLM](https://docs.crewai.com/how-to/LLM-Connections/)."
   ]
  }
 ],
 "metadata": {
  "colab": {
   "gpuType": "T4",
   "provenance": []
  },
  "kernelspec": {
   "display_name": "defense-hackathon-DFNItjSI-py3.10",
   "language": "python",
   "name": "python3"
  },
  "language_info": {
   "codemirror_mode": {
    "name": "ipython",
    "version": 3
   },
   "file_extension": ".py",
   "mimetype": "text/x-python",
   "name": "python",
   "nbconvert_exporter": "python",
   "pygments_lexer": "ipython3",
   "version": "3.10.15"
  }
 },
 "nbformat": 4,
 "nbformat_minor": 4
}
